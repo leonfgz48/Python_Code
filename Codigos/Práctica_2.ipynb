{
 "cells": [
  {
   "cell_type": "code",
   "execution_count": 14,
   "metadata": {},
   "outputs": [],
   "source": [
    "import numpy as np\n",
    "import math\n",
    "import sympy"
   ]
  },
  {
   "cell_type": "code",
   "execution_count": 16,
   "metadata": {},
   "outputs": [],
   "source": [
    "from sympy.tensor.array import derive_by_array\n",
    "import matplotlib.pyplot as plt\n",
    "from scipy.optimize import fsolve\n",
    "from scipy.optimize import fmin\n",
    "import pandas as pd\n",
    "#import cvxpy as cp\n",
    "#from pytest import approx"
   ]
  },
  {
   "cell_type": "markdown",
   "metadata": {},
   "source": [
    "## Practica 2"
   ]
  },
  {
   "cell_type": "markdown",
   "metadata": {},
   "source": [
    "a) $ min \\frac{1}{3}v^TXX^Tu$ sujeto a $u^Tu=1$\n",
    "\n",
    "restricción: $u^Tu=1$\n",
    "\n",
    "b) $ max \\frac{1}{3}u^TXX^Tu$ sujeto a $u^Tu=1$\n",
    "\n",
    "restricción: $u^Tu=1$\n"
   ]
  },
  {
   "cell_type": "markdown",
   "metadata": {},
   "source": [
    "1) Definimos nuestra funciones $f_0$ y $h(u)$\n",
    "\n",
    "$f_0=\\frac{1}{3}u^TXX^Tu$\n",
    "\n",
    "$h(u)=1-u^Tu$\n",
    "\n",
    "Escribiendo la función Lagrangiana: $L(u,\\lambda)=f_0(u)+\\lambda h(u)=\\frac{1}{3}u^TXX^Tu+\\lambda(1-u^Tu)$=0"
   ]
  },
  {
   "cell_type": "markdown",
   "metadata": {},
   "source": [
    "2. Planteamos sistema de ecuaciones no lineales:\n",
    "\n",
    "$\\nabla_u L(u,\\lambda)=\\frac{1}{3}XX^Tu-\\lambda u=0$\n",
    "\n",
    "$h(u)=1-u^Tu=0$\n",
    "\n",
    "Observación: revisar que la derivada este correcta."
   ]
  },
  {
   "cell_type": "markdown",
   "metadata": {},
   "source": [
    "Planteamos:\n",
    "\n",
    "$f(u,\\lambda)= \\begin{bmatrix}\n",
    "\\frac{1}{3}XX^Tu-\\lambda u\\\\\n",
    "1-u^Tu\n",
    "\\end{bmatrix}$=0\n",
    "\n",
    "En esta parte va $fsolve$?"
   ]
  },
  {
   "cell_type": "code",
   "execution_count": 9,
   "metadata": {},
   "outputs": [],
   "source": [
    "X = np.array([[-7.933766141770026703e-01, 6.471627936801565006e-01, -6.626470617390416429e-01, 4.020421717575433651e-01, 1.738600071217880627e+00, -1.451979250565152313e+00, -9.612883834814559547e-01, 5.789430729089685146e-01, -1.154409763374550923e+00, -1.766361216744831708e+00, -7.641680746427836901e-02, -3.682628563786355391e-01, -7.151094383245988340e-01, 8.381644386589920392e-01, 1.239458368836582558e+00, 1.935379530081457355e+00, -8.855586746312408275e-01, 2.065567108202134960e+00, 1.332325614186348650e+00, -1.512746804929564481e+00, 8.442973569067254713e-01, 4.071834403375261813e-01, 4.195916718169255821e-01, 2.193395989862811923e+00, -1.147389507478345561e+00, 8.542474904873577080e-01, -1.637232061955129714e+00, 4.596174462432398578e-01, 6.957754294227338487e-01, 3.448376687304160332e-02],\n",
    "[-6.495422853765824289e-01, -1.042294815244566353e+00, 4.446506226129336992e-01, 6.511121809479174516e-01, 1.036119669783688524e+00, 4.849494371101021883e-01, 1.459140120476082880e-01, -1.272824244712962294e+00, 8.473830048325123876e-01, 1.893237768820440689e-02, -2.108089046973075309e+00, -1.631399560504614710e-01, 5.880627975877508185e-01, -7.774530009858818813e-01, 1.190751557766774882e+00, 1.917412708869417615e-01, 5.479573794423747701e-01, 2.086427852892997148e+00, -3.270823595996231181e-01, -1.054927626405108843e+00, -6.412000721434961692e-01, -1.143823454337076773e-01, -7.908980693965891318e-01, 1.762105097555517030e+00, 1.093081269857044263e-01, -1.003255153844399561e-01, 6.639456378978786377e-01, 1.897094872882967076e+00, 9.402638164695781287e-01, -5.210830527122842781e-01],\n",
    "[6.877828030294974582e-02, -1.054399323145824630e+00, -6.018183140562958222e-01, 6.379829799048137851e-01, 1.012720091050415758e-02, -7.388928422872218515e-01, -1.055357755529850339e+00, 1.089046208655770176e+00, -3.556472774013537119e-01, 1.224944159176258207e+00, 1.277997097871776122e-01, -1.658535851295506625e+00, 2.510147702031227945e-01, 9.288976589529153172e-01, 2.923438113708219932e-01, -1.653807943263393643e+00, -1.460473299535285152e+00, 9.085602378778866450e-01, -9.553747202152216289e-01, -5.308014284325660581e-01, -7.058958620322991484e-01, -2.405623154665937680e+00, -5.903829993310739238e-02, 1.083493217504114314e+00, -1.155220856128264195e+00, 5.874498749356501515e-01, -1.361717684391128502e+00, -8.649458922600248290e-01, 2.026872295619328579e+00, -3.431145032882851331e-01],\n",
    "[2.937867720397956406e-01, 2.326621553122658337e-01, 2.150983488382883502e-01, 4.847201681659071837e-01, -2.045197787482550211e+00, -6.799092191712042821e-01, -1.356558822054193758e+00, 5.090050416691666024e-01, 1.116709858859708415e+00, 2.036877368326361071e-01, -2.923901873636118864e-01, -1.003474631597261746e-01, -4.599498979947117538e-01, -5.920971067259098719e-01, -1.058153376584752142e-02, -9.647984746347575413e-01, 1.297962625537778421e-02, -2.086201901955731852e+00, 1.041580101008868331e+00, -1.986232556235190572e+00, 1.954136487929712396e-01, 2.021930326379729248e+00, -6.970958170867521675e-01, -1.061690655843150477e+00, 7.887739857596415272e-01, -1.540909585456306852e+00, 8.881062369281786939e-01, -1.391211585101937986e+00, -5.992385801729569611e-02, -2.254622144918157822e+00]], dtype=float)"
   ]
  },
  {
   "cell_type": "markdown",
   "metadata": {},
   "source": [
    "a) Solución del min y max por método fsolve"
   ]
  },
  {
   "cell_type": "code",
   "execution_count": 87,
   "metadata": {},
   "outputs": [
    {
     "name": "stdout",
     "output_type": "stream",
     "text": [
      "[-1. -1. -1. -1. -1.]\n"
     ]
    }
   ],
   "source": [
    "vect=np.ones(m) #Vector definido con 1\n",
    "print(-vect)\n"
   ]
  },
  {
   "cell_type": "code",
   "execution_count": 110,
   "metadata": {},
   "outputs": [
    {
     "name": "stdout",
     "output_type": "stream",
     "text": [
      "[-0.38406481  0.86524587  0.22188302  0.23369155  7.71088685]\n"
     ]
    }
   ],
   "source": [
    "####Función definida con fsolve####\n",
    "m=5\n",
    "vect=np.ones(m) #Vector de m entradas\n",
    "def eqn(vect): #Definición de función \n",
    "    u = vect[0:m-1] #Vector de m-1 entradas\n",
    "    lmbda = vect[m-1]\n",
    "    v1=(1/3)*X@X.T@u-lmbda*u\n",
    "    v2=1-u@u.T\n",
    "    v3 = np.append(v1,v2)\n",
    "    return v3\n",
    "\n",
    "vect_2=(2,2,2,2,2)\n",
    "root1 = fsolve(eqn, vect_2)\n",
    "print(root1)"
   ]
  },
  {
   "cell_type": "code",
   "execution_count": 121,
   "metadata": {},
   "outputs": [
    {
     "name": "stdout",
     "output_type": "stream",
     "text": [
      "[-0.38406481  0.86524587  0.22188302  0.23369155  7.71088685]\n"
     ]
    }
   ],
   "source": [
    "#Prueba maximo fsolve\n",
    "m=5\n",
    "vect=np.ones(m) #Vector de m entradas\n",
    "def eqn(vect): #Definición de función \n",
    "    u = vect[0:m-1] #Vector de m-1 entradas\n",
    "    lmbda = vect[m-1]\n",
    "    v1=-(1/3)*X@X.T@u+lmbda*u\n",
    "    v2=u@u.T-1\n",
    "    v3 = np.append(v1,v2)\n",
    "    return v3\n",
    "\n",
    "vect_2=(1,3,155555,1,-1)\n",
    "root1 = fsolve(eqn, vect_2)\n",
    "print(root1)"
   ]
  },
  {
   "cell_type": "markdown",
   "metadata": {},
   "source": [
    "Realizar ejercicio con Eigenvalores"
   ]
  },
  {
   "cell_type": "code",
   "execution_count": 82,
   "metadata": {},
   "outputs": [
    {
     "name": "stdout",
     "output_type": "stream",
     "text": [
      "eigenvalores:\n",
      "[19.02338629  7.71088685  8.96196756  9.77728997]\n",
      "eigenvectores:\n",
      "[[-0.66104615 -0.38406481  0.64134536 -0.06471739]\n",
      " [-0.34334083  0.86524587  0.1297985  -0.34149526]\n",
      " [-0.38169018  0.22188302 -0.1716729   0.88068663]\n",
      " [ 0.54721812  0.23369155  0.73644884  0.32184422]]\n"
     ]
    }
   ],
   "source": [
    "evalue, evector = np.linalg.eig(A)\n",
    "print('eigenvalores:')\n",
    "print(evalue)\n",
    "print('eigenvectores:')\n",
    "print(evector)"
   ]
  }
 ],
 "metadata": {
  "kernelspec": {
   "display_name": "Python 3",
   "language": "python",
   "name": "python3"
  },
  "language_info": {
   "codemirror_mode": {
    "name": "ipython",
    "version": 3
   },
   "file_extension": ".py",
   "mimetype": "text/x-python",
   "name": "python",
   "nbconvert_exporter": "python",
   "pygments_lexer": "ipython3",
   "version": "3.8.8"
  },
  "vscode": {
   "interpreter": {
    "hash": "94dc65010be23d2b549a85ac286c7c49d3007baa3e5e96b443e6ac48656b51ff"
   }
  }
 },
 "nbformat": 4,
 "nbformat_minor": 2
}
